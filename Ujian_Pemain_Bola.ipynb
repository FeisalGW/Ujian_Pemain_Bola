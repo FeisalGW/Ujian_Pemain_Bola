{
 "cells": [
  {
   "cell_type": "code",
   "execution_count": 2,
   "metadata": {},
   "outputs": [],
   "source": [
    "import pandas as pd\n",
    "import numpy as np\n",
    "import matplotlib.pyplot as plt\n",
    "from sklearn.model_selection import train_test_split\n",
    "from sklearn.linear_model import LogisticRegression\n",
    "from sklearn.tree import DecisionTreeClassifier\n",
    "from sklearn.neighbors import KNeighborsClassifier\n",
    "from sklearn.model_selection import cross_val_score\n",
    "from sklearn.model_selection import StratifiedKFold"
   ]
  },
  {
   "cell_type": "code",
   "execution_count": 4,
   "metadata": {},
   "outputs": [
    {
     "name": "stdout",
     "output_type": "stream",
     "text": [
      "                       Name  Age  Overall  Potential\n",
      "0                  L. Messi   31       94         94\n",
      "1         Cristiano Ronaldo   33       94         94\n",
      "2                 Neymar Jr   26       92         93\n",
      "3                    De Gea   27       91         93\n",
      "4              K. De Bruyne   27       91         92\n",
      "5                 E. Hazard   27       91         91\n",
      "6                 L. Modrić   32       91         91\n",
      "7                 L. Suárez   31       91         91\n",
      "8              Sergio Ramos   32       91         91\n",
      "9                  J. Oblak   25       90         93\n",
      "10           R. Lewandowski   29       90         90\n",
      "11                 T. Kroos   28       90         90\n",
      "12                 D. Godín   32       90         90\n",
      "13              David Silva   32       90         90\n",
      "14                 N. Kanté   27       89         90\n",
      "15                P. Dybala   24       89         94\n",
      "16                  H. Kane   24       89         91\n",
      "17             A. Griezmann   27       89         90\n",
      "18            M. ter Stegen   26       89         92\n",
      "19              T. Courtois   26       89         90\n",
      "20          Sergio Busquets   29       89         89\n",
      "21                E. Cavani   31       89         89\n",
      "22                 M. Neuer   32       89         89\n",
      "23                S. Agüero   30       89         89\n",
      "24             G. Chiellini   33       89         89\n",
      "25                K. Mbappé   19       88         95\n",
      "26                 M. Salah   26       88         89\n",
      "27                 Casemiro   26       88         90\n",
      "28             J. Rodríguez   26       88         89\n",
      "29               L. Insigne   27       88         88\n",
      "...                     ...  ...      ...        ...\n",
      "18177             R. Roache   18       48         69\n",
      "18178          L. Wahlstedt   18       48         65\n",
      "18179           J. Williams   17       48         64\n",
      "18180              M. Hurst   22       48         58\n",
      "18181              C. Maher   17       48         66\n",
      "18182               Y. Góez   18       48         65\n",
      "18183         K. Pilkington   44       48         48\n",
      "18184             D. Horton   18       48         55\n",
      "18185              E. Tweed   19       48         59\n",
      "18186          Zhang Yufeng   20       47         64\n",
      "18187             C. Ehlich   19       47         59\n",
      "18188            L. Collins   17       47         62\n",
      "18189            A. Kaltner   18       47         61\n",
      "18190            L. Watkins   18       47         67\n",
      "18191  J. Norville-Williams   18       47         65\n",
      "18192             S. Squire   18       47         64\n",
      "18193            N. Fuentes   18       47         64\n",
      "18194              J. Milli   18       47         65\n",
      "18195            S. Griffin   18       47         67\n",
      "18196           K. Fujikawa   19       47         61\n",
      "18197            D. Holland   18       47         61\n",
      "18198            J. Livesey   18       47         70\n",
      "18199          M. Baldisimo   18       47         69\n",
      "18200              J. Young   18       47         62\n",
      "18201              D. Walsh   18       47         68\n",
      "18202          J. Lundstram   19       47         65\n",
      "18203    N. Christoffersson   19       47         63\n",
      "18204             B. Worman   16       47         67\n",
      "18205        D. Walker-Rice   17       47         66\n",
      "18206             G. Nugent   16       46         66\n",
      "\n",
      "[18207 rows x 4 columns]\n"
     ]
    }
   ],
   "source": [
    "df = pd.read_csv('data.csv')\n",
    "dfFifa = df[['Name','Age','Overall','Potential']]\n",
    "print(dfFifa)"
   ]
  },
  {
   "cell_type": "code",
   "execution_count": 7,
   "metadata": {},
   "outputs": [
    {
     "name": "stdout",
     "output_type": "stream",
     "text": [
      "                   Name  Age  Overall  Potential  Label\n",
      "9              J. Oblak   25       90         93      1\n",
      "15            P. Dybala   24       89         94      1\n",
      "16              H. Kane   24       89         91      1\n",
      "25            K. Mbappé   19       88         95      1\n",
      "42            S. Umtiti   24       87         92      1\n",
      "43            M. Icardi   25       87         90      1\n",
      "45             P. Pogba   25       87         91      1\n",
      "47            R. Lukaku   25       87         89      1\n",
      "55              L. Sané   22       86         92      1\n",
      "56       Bernardo Silva   23       86         91      1\n",
      "57              Ederson   24       86         90      1\n",
      "60          R. Sterling   23       86         89      1\n",
      "62            R. Varane   25       86         91      1\n",
      "63          M. Verratti   25       86         89      1\n",
      "77          M. Škriniar   23       85         92      1\n",
      "78  S. Milinković-Savić   23       85         90      1\n",
      "79        Marco Asensio   22       85         92      1\n",
      "80             N. Fekir   24       85         89      1\n",
      "81              Alisson   25       85         90      1\n",
      "82           J. Kimmich   23       85         88      1\n"
     ]
    },
    {
     "name": "stderr",
     "output_type": "stream",
     "text": [
      "C:\\ProgramData\\Anaconda3\\lib\\site-packages\\ipykernel_launcher.py:1: UserWarning: Boolean Series key will be reindexed to match DataFrame index.\n",
      "  \"\"\"Entry point for launching an IPython kernel.\n"
     ]
    }
   ],
   "source": [
    "dftarget = dfFifa[dfFifa['Age'] <= 25][dfFifa['Overall'] >= 80][dfFifa['Potential'] >= 80]\n",
    "labeltarget = np.array([1]*len(dftarget))\n",
    "dftarget['Label'] = labeltarget\n",
    "print(dftarget.head(20))"
   ]
  },
  {
   "cell_type": "code",
   "execution_count": 9,
   "metadata": {},
   "outputs": [
    {
     "name": "stdout",
     "output_type": "stream",
     "text": [
      "[1 1 1 1 1 1 1 1 1 1 1 1 1 1 1 1 1 1 1 1 1 1 1 1 1 1 1 1 1 1 1 1 1 1 1 1 1\n",
      " 1 1 1 1 1 1 1 1 1 1 1 1 1 1 1 1 1 1 1 1 1 1 1 1 1 1 1 1 1 1 1 1 1 1 1 1 1\n",
      " 1 1 1 1 1 1 1 1 1 1 1 1 1 1 1 1 1 1 1 1 1 1 1 1 1 1 1 1 1 1 1 1 1 1 1 1 1\n",
      " 1 1 1 1 1 1 1 1 1 1 1 1 1 1 1 1 1 1 1 1 1 1 1 1 1 1 1 1 1 1 1 1 1 1 1 1 1\n",
      " 1 1 1 1 1 1 1 1 1 1 1 1 1 1 1 1 1 1 1 1 1 1 1 1 1 1]\n"
     ]
    }
   ],
   "source": [
    "print(labeltarget)"
   ]
  },
  {
   "cell_type": "code",
   "execution_count": 11,
   "metadata": {},
   "outputs": [
    {
     "name": "stdout",
     "output_type": "stream",
     "text": [
      "                       Name  Age  Overall  Potential  Label\n",
      "0                  L. Messi   31       94         94      0\n",
      "1         Cristiano Ronaldo   33       94         94      0\n",
      "2                 Neymar Jr   26       92         93      0\n",
      "3                    De Gea   27       91         93      0\n",
      "4              K. De Bruyne   27       91         92      0\n",
      "5                 E. Hazard   27       91         91      0\n",
      "6                 L. Modrić   32       91         91      0\n",
      "7                 L. Suárez   31       91         91      0\n",
      "8              Sergio Ramos   32       91         91      0\n",
      "10           R. Lewandowski   29       90         90      0\n",
      "11                 T. Kroos   28       90         90      0\n",
      "12                 D. Godín   32       90         90      0\n",
      "13              David Silva   32       90         90      0\n",
      "14                 N. Kanté   27       89         90      0\n",
      "17             A. Griezmann   27       89         90      0\n",
      "18            M. ter Stegen   26       89         92      0\n",
      "19              T. Courtois   26       89         90      0\n",
      "20          Sergio Busquets   29       89         89      0\n",
      "21                E. Cavani   31       89         89      0\n",
      "22                 M. Neuer   32       89         89      0\n",
      "23                S. Agüero   30       89         89      0\n",
      "24             G. Chiellini   33       89         89      0\n",
      "26                 M. Salah   26       88         89      0\n",
      "27                 Casemiro   26       88         90      0\n",
      "28             J. Rodríguez   26       88         89      0\n",
      "29               L. Insigne   27       88         88      0\n",
      "30                     Isco   26       88         91      0\n",
      "31               C. Eriksen   26       88         91      0\n",
      "32                 Coutinho   26       88         89      0\n",
      "33            P. Aubameyang   29       88         88      0\n",
      "...                     ...  ...      ...        ...    ...\n",
      "18177             R. Roache   18       48         69      0\n",
      "18178          L. Wahlstedt   18       48         65      0\n",
      "18179           J. Williams   17       48         64      0\n",
      "18180              M. Hurst   22       48         58      0\n",
      "18181              C. Maher   17       48         66      0\n",
      "18182               Y. Góez   18       48         65      0\n",
      "18183         K. Pilkington   44       48         48      0\n",
      "18184             D. Horton   18       48         55      0\n",
      "18185              E. Tweed   19       48         59      0\n",
      "18186          Zhang Yufeng   20       47         64      0\n",
      "18187             C. Ehlich   19       47         59      0\n",
      "18188            L. Collins   17       47         62      0\n",
      "18189            A. Kaltner   18       47         61      0\n",
      "18190            L. Watkins   18       47         67      0\n",
      "18191  J. Norville-Williams   18       47         65      0\n",
      "18192             S. Squire   18       47         64      0\n",
      "18193            N. Fuentes   18       47         64      0\n",
      "18194              J. Milli   18       47         65      0\n",
      "18195            S. Griffin   18       47         67      0\n",
      "18196           K. Fujikawa   19       47         61      0\n",
      "18197            D. Holland   18       47         61      0\n",
      "18198            J. Livesey   18       47         70      0\n",
      "18199          M. Baldisimo   18       47         69      0\n",
      "18200              J. Young   18       47         62      0\n",
      "18201              D. Walsh   18       47         68      0\n",
      "18202          J. Lundstram   19       47         65      0\n",
      "18203    N. Christoffersson   19       47         63      0\n",
      "18204             B. Worman   16       47         67      0\n",
      "18205        D. Walker-Rice   17       47         66      0\n",
      "18206             G. Nugent   16       46         66      0\n",
      "\n",
      "[18033 rows x 5 columns]\n"
     ]
    }
   ],
   "source": [
    "dfnontarget = dfFifa.drop(dftarget.index)\n",
    "labelnontarget = np.array([0]*len(dfnontarget))\n",
    "dfnontarget['Label'] = labelnontarget\n",
    "print(dfnontarget)"
   ]
  },
  {
   "cell_type": "code",
   "execution_count": 13,
   "metadata": {},
   "outputs": [
    {
     "name": "stdout",
     "output_type": "stream",
     "text": [
      "                       Name  Age  Overall  Potential  Label\n",
      "0                  J. Oblak   25       90         93      1\n",
      "1                 P. Dybala   24       89         94      1\n",
      "2                   H. Kane   24       89         91      1\n",
      "3                 K. Mbappé   19       88         95      1\n",
      "4                 S. Umtiti   24       87         92      1\n",
      "5                 M. Icardi   25       87         90      1\n",
      "6                  P. Pogba   25       87         91      1\n",
      "7                 R. Lukaku   25       87         89      1\n",
      "8                   L. Sané   22       86         92      1\n",
      "9            Bernardo Silva   23       86         91      1\n",
      "10                  Ederson   24       86         90      1\n",
      "11              R. Sterling   23       86         89      1\n",
      "12                R. Varane   25       86         91      1\n",
      "13              M. Verratti   25       86         89      1\n",
      "14              M. Škriniar   23       85         92      1\n",
      "15      S. Milinković-Savić   23       85         90      1\n",
      "16            Marco Asensio   22       85         92      1\n",
      "17                 N. Fekir   24       85         89      1\n",
      "18                  Alisson   25       85         90      1\n",
      "19               J. Kimmich   23       85         88      1\n",
      "20                     Saúl   23       85         90      1\n",
      "21               D. Sánchez   22       84         88      1\n",
      "22               J. Giménez   23       84         88      1\n",
      "23              Alex Telles   25       84         87      1\n",
      "24               A. Laporte   24       84         88      1\n",
      "25          Bruno Fernandes   23       84         88      1\n",
      "26                  N. Süle   22       84         90      1\n",
      "27               A. Martial   22       84         90      1\n",
      "28                  D. Alli   22       84         90      1\n",
      "29                  Fabinho   24       84         88      1\n",
      "...                     ...  ...      ...        ...    ...\n",
      "18177             R. Roache   18       48         69      0\n",
      "18178          L. Wahlstedt   18       48         65      0\n",
      "18179           J. Williams   17       48         64      0\n",
      "18180              M. Hurst   22       48         58      0\n",
      "18181              C. Maher   17       48         66      0\n",
      "18182               Y. Góez   18       48         65      0\n",
      "18183         K. Pilkington   44       48         48      0\n",
      "18184             D. Horton   18       48         55      0\n",
      "18185              E. Tweed   19       48         59      0\n",
      "18186          Zhang Yufeng   20       47         64      0\n",
      "18187             C. Ehlich   19       47         59      0\n",
      "18188            L. Collins   17       47         62      0\n",
      "18189            A. Kaltner   18       47         61      0\n",
      "18190            L. Watkins   18       47         67      0\n",
      "18191  J. Norville-Williams   18       47         65      0\n",
      "18192             S. Squire   18       47         64      0\n",
      "18193            N. Fuentes   18       47         64      0\n",
      "18194              J. Milli   18       47         65      0\n",
      "18195            S. Griffin   18       47         67      0\n",
      "18196           K. Fujikawa   19       47         61      0\n",
      "18197            D. Holland   18       47         61      0\n",
      "18198            J. Livesey   18       47         70      0\n",
      "18199          M. Baldisimo   18       47         69      0\n",
      "18200              J. Young   18       47         62      0\n",
      "18201              D. Walsh   18       47         68      0\n",
      "18202          J. Lundstram   19       47         65      0\n",
      "18203    N. Christoffersson   19       47         63      0\n",
      "18204             B. Worman   16       47         67      0\n",
      "18205        D. Walker-Rice   17       47         66      0\n",
      "18206             G. Nugent   16       46         66      0\n",
      "\n",
      "[18207 rows x 5 columns]\n"
     ]
    }
   ],
   "source": [
    "dflabeled = dftarget.append(dfnontarget, ignore_index = True)\n",
    "print(dflabeled)"
   ]
  },
  {
   "cell_type": "code",
   "execution_count": 15,
   "metadata": {},
   "outputs": [],
   "source": [
    "x_train, x_test, y_train, y_test = train_test_split(\n",
    "    dflabeled[['Age', 'Overall', 'Potential']],\n",
    "    dflabeled['Label'],\n",
    "    test_size = .1\n",
    ")"
   ]
  },
  {
   "cell_type": "code",
   "execution_count": 17,
   "metadata": {},
   "outputs": [
    {
     "name": "stdout",
     "output_type": "stream",
     "text": [
      "16386\n"
     ]
    }
   ],
   "source": [
    "print(len(x_train))"
   ]
  },
  {
   "cell_type": "code",
   "execution_count": 18,
   "metadata": {},
   "outputs": [
    {
     "name": "stdout",
     "output_type": "stream",
     "text": [
      "1821\n"
     ]
    }
   ],
   "source": [
    "print(len(x_test))"
   ]
  },
  {
   "cell_type": "code",
   "execution_count": 25,
   "metadata": {},
   "outputs": [
    {
     "name": "stdout",
     "output_type": "stream",
     "text": [
      "[[25 90 93]\n",
      " [24 89 94]\n",
      " [24 89 91]\n",
      " ...\n",
      " [16 47 67]\n",
      " [17 47 66]\n",
      " [16 46 66]]\n"
     ]
    }
   ],
   "source": [
    "k = StratifiedKFold(n_splits = 50, random_state=None, shuffle=False)\n",
    "Data = dflabeled[['Age', 'Overall', 'Potential']].values\n",
    "print(Data)"
   ]
  },
  {
   "cell_type": "code",
   "execution_count": 27,
   "metadata": {},
   "outputs": [
    {
     "name": "stdout",
     "output_type": "stream",
     "text": [
      "StratifiedKFold(n_splits=50, random_state=None, shuffle=False)\n"
     ]
    }
   ],
   "source": [
    "print(k)"
   ]
  },
  {
   "cell_type": "code",
   "execution_count": 29,
   "metadata": {},
   "outputs": [],
   "source": [
    "#K-Fold\n",
    "for train_index, test_index in k.split(Data, dflabeled['Label']):\n",
    "    x_train = Data[train_index]\n",
    "    y_train = dflabeled['Label'][train_index]"
   ]
  },
  {
   "cell_type": "code",
   "execution_count": 31,
   "metadata": {},
   "outputs": [
    {
     "name": "stderr",
     "output_type": "stream",
     "text": [
      "C:\\ProgramData\\Anaconda3\\lib\\site-packages\\sklearn\\model_selection\\_split.py:2053: FutureWarning: You should specify a value for 'cv' instead of relying on the default value. The default value will change from 3 to 5 in version 0.22.\n",
      "  warnings.warn(CV_WARNING, FutureWarning)\n"
     ]
    },
    {
     "name": "stdout",
     "output_type": "stream",
     "text": [
      "Akurasi Model Regresi Logistik: 93.0 persen\n",
      "Akurasi Model Decision Tree: 89.0 persen\n"
     ]
    },
    {
     "name": "stderr",
     "output_type": "stream",
     "text": [
      "C:\\ProgramData\\Anaconda3\\lib\\site-packages\\sklearn\\model_selection\\_split.py:2053: FutureWarning: You should specify a value for 'cv' instead of relying on the default value. The default value will change from 3 to 5 in version 0.22.\n",
      "  warnings.warn(CV_WARNING, FutureWarning)\n"
     ]
    }
   ],
   "source": [
    "#Testing Cross Validation Score\n",
    "print('Akurasi Model Regresi Logistik:',\n",
    "    round(cross_val_score(\n",
    "    LogisticRegression(solver = 'lbfgs', multi_class = 'auto'),\n",
    "    x_train,\n",
    "    y_train\n",
    ").mean() * 100), 'persen')\n",
    "\n",
    "print('Akurasi Model Decision Tree:',\n",
    "    round(cross_val_score(\n",
    "    DecisionTreeClassifier(),\n",
    "    x_train,\n",
    "    y_train\n",
    ").mean() * 100), 'persen')"
   ]
  },
  {
   "cell_type": "code",
   "execution_count": 33,
   "metadata": {},
   "outputs": [
    {
     "name": "stderr",
     "output_type": "stream",
     "text": [
      "C:\\ProgramData\\Anaconda3\\lib\\site-packages\\sklearn\\model_selection\\_split.py:2053: FutureWarning: You should specify a value for 'cv' instead of relying on the default value. The default value will change from 3 to 5 in version 0.22.\n",
      "  warnings.warn(CV_WARNING, FutureWarning)\n"
     ]
    },
    {
     "name": "stdout",
     "output_type": "stream",
     "text": [
      "Akurasi Model KNN: 94.0 persen\n"
     ]
    }
   ],
   "source": [
    "def k_value():\n",
    "    k = round((len(x_train)+len(x_test)) ** .5)\n",
    "    if (k % 2 == 0):\n",
    "        return k + 1\n",
    "    else:\n",
    "        return k\n",
    "\n",
    "# print(k_value())\n",
    "print('Akurasi Model KNN:',\n",
    "    round(cross_val_score(\n",
    "    KNeighborsClassifier(n_neighbors = k_value()),\n",
    "    x_train,\n",
    "    y_train\n",
    ").mean() * 100), 'persen')"
   ]
  },
  {
   "cell_type": "code",
   "execution_count": 35,
   "metadata": {},
   "outputs": [
    {
     "name": "stderr",
     "output_type": "stream",
     "text": [
      "C:\\ProgramData\\Anaconda3\\lib\\site-packages\\ipykernel_launcher.py:2: UserWarning: Boolean Series key will be reindexed to match DataFrame index.\n",
      "  \n"
     ]
    }
   ],
   "source": [
    "##players selection\n",
    "dftarget = dfFifa[dfFifa['Age'] <= 25][dfFifa['Overall'] >= 80][dfFifa['Potential'] >= 80]\n",
    "labeltarget = 'Rekrut'\n",
    "dftarget['Label'] = labeltarget\n",
    "\n",
    "dfnontarget = dfFifa.drop(dftarget.index)\n",
    "labelnontarget = 'Tidak direkrut'\n",
    "dfnontarget['Label'] = labelnontarget"
   ]
  },
  {
   "cell_type": "code",
   "execution_count": 37,
   "metadata": {},
   "outputs": [],
   "source": [
    "dflabeled = dftarget.append(dfnontarget, ignore_index = True)"
   ]
  },
  {
   "cell_type": "code",
   "execution_count": 39,
   "metadata": {},
   "outputs": [],
   "source": [
    "x_train, x_test, y_train, y_test = train_test_split(\n",
    "    dflabeled[['Age', 'Overall', 'Potential']],\n",
    "    dflabeled['Label'],\n",
    "    test_size = .1\n",
    ")"
   ]
  },
  {
   "cell_type": "code",
   "execution_count": 41,
   "metadata": {},
   "outputs": [
    {
     "name": "stdout",
     "output_type": "stream",
     "text": [
      "16386\n"
     ]
    }
   ],
   "source": [
    "print(len(x_train)) "
   ]
  },
  {
   "cell_type": "code",
   "execution_count": 43,
   "metadata": {},
   "outputs": [
    {
     "name": "stdout",
     "output_type": "stream",
     "text": [
      "1821\n"
     ]
    }
   ],
   "source": [
    "print(len(x_test))"
   ]
  },
  {
   "cell_type": "code",
   "execution_count": 45,
   "metadata": {},
   "outputs": [
    {
     "name": "stdout",
     "output_type": "stream",
     "text": [
      "135\n"
     ]
    }
   ],
   "source": [
    "#Define k_value\n",
    "def k_value():\n",
    "    k = round((len(x_train)+len(x_test)) ** .5)\n",
    "    if (k % 2 == 0):\n",
    "        return k + 1\n",
    "    else:\n",
    "        return k\n",
    "print(k_value())"
   ]
  },
  {
   "cell_type": "code",
   "execution_count": 47,
   "metadata": {},
   "outputs": [],
   "source": [
    "model = KNeighborsClassifier(               \n",
    "    n_neighbors = k_value()\n",
    ")"
   ]
  },
  {
   "cell_type": "code",
   "execution_count": 48,
   "metadata": {},
   "outputs": [
    {
     "data": {
      "text/plain": [
       "KNeighborsClassifier(algorithm='auto', leaf_size=30, metric='minkowski',\n",
       "           metric_params=None, n_jobs=None, n_neighbors=135, p=2,\n",
       "           weights='uniform')"
      ]
     },
     "execution_count": 48,
     "metadata": {},
     "output_type": "execute_result"
    }
   ],
   "source": [
    "#Fitting Model\n",
    "model.fit(x_train, y_train)"
   ]
  },
  {
   "cell_type": "code",
   "execution_count": 51,
   "metadata": {},
   "outputs": [
    {
     "name": "stdout",
     "output_type": "stream",
     "text": [
      "0.9983525535420099\n"
     ]
    }
   ],
   "source": [
    "#Accuracy\n",
    "print(model.score(x_test, y_test))"
   ]
  },
  {
   "cell_type": "code",
   "execution_count": 54,
   "metadata": {},
   "outputs": [
    {
     "name": "stdout",
     "output_type": "stream",
     "text": [
      "['Tidak direkrut']\n"
     ]
    }
   ],
   "source": [
    "#Andik Vermansyah\n",
    "print(model.predict([[27, 87, 90]]))"
   ]
  },
  {
   "cell_type": "code",
   "execution_count": 56,
   "metadata": {},
   "outputs": [
    {
     "name": "stdout",
     "output_type": "stream",
     "text": [
      "['Tidak direkrut']\n"
     ]
    }
   ],
   "source": [
    "#Awan Setho Raharjo\n",
    "print(model.predict([[22, 75, 83]])) "
   ]
  },
  {
   "cell_type": "code",
   "execution_count": 58,
   "metadata": {},
   "outputs": [
    {
     "name": "stdout",
     "output_type": "stream",
     "text": [
      "['Tidak direkrut']\n"
     ]
    }
   ],
   "source": [
    "#Bambang Pamungkas\n",
    "print(model.predict([[38, 85, 75]]))"
   ]
  },
  {
   "cell_type": "code",
   "execution_count": 60,
   "metadata": {},
   "outputs": [
    {
     "name": "stdout",
     "output_type": "stream",
     "text": [
      "['Tidak direkrut']\n"
     ]
    }
   ],
   "source": [
    "#Cristian Gonzales\n",
    "print(model.predict([[43, 90, 85]])) "
   ]
  },
  {
   "cell_type": "code",
   "execution_count": 62,
   "metadata": {},
   "outputs": [
    {
     "name": "stdout",
     "output_type": "stream",
     "text": [
      "['Rekrut']\n"
     ]
    }
   ],
   "source": [
    "#Egy Maulana Vikri\n",
    "print(model.predict([[18, 88, 90]]))"
   ]
  },
  {
   "cell_type": "code",
   "execution_count": 64,
   "metadata": {},
   "outputs": [
    {
     "name": "stdout",
     "output_type": "stream",
     "text": [
      "['Rekrut']\n"
     ]
    }
   ],
   "source": [
    "#Evan Dimas\n",
    "print(model.predict([[24, 85, 87]]))"
   ]
  },
  {
   "cell_type": "code",
   "execution_count": 66,
   "metadata": {},
   "outputs": [
    {
     "name": "stdout",
     "output_type": "stream",
     "text": [
      "['Tidak direkrut']\n"
     ]
    }
   ],
   "source": [
    "# Febri Hariyadi\n",
    "print(model.predict([[23, 77, 80]]))"
   ]
  },
  {
   "cell_type": "code",
   "execution_count": 68,
   "metadata": {},
   "outputs": [
    {
     "name": "stdout",
     "output_type": "stream",
     "text": [
      "['Rekrut']\n"
     ]
    }
   ],
   "source": [
    "#Hansamu Yama Pranata\n",
    "print(model.predict([[24, 82, 85]]))"
   ]
  },
  {
   "cell_type": "code",
   "execution_count": 70,
   "metadata": {},
   "outputs": [
    {
     "name": "stdout",
     "output_type": "stream",
     "text": [
      "['Tidak direkrut']\n"
     ]
    }
   ],
   "source": [
    "#Septian David Maulana\n",
    "print(model.predict([[22, 83, 80]]))"
   ]
  },
  {
   "cell_type": "code",
   "execution_count": 71,
   "metadata": {},
   "outputs": [
    {
     "name": "stdout",
     "output_type": "stream",
     "text": [
      "['Tidak direkrut']\n"
     ]
    }
   ],
   "source": [
    "#Stefano Lilipaly\n",
    "print(model.predict([[29, 88, 86]]))"
   ]
  }
 ],
 "metadata": {
  "kernelspec": {
   "display_name": "Python 3",
   "language": "python",
   "name": "python3"
  },
  "language_info": {
   "codemirror_mode": {
    "name": "ipython",
    "version": 3
   },
   "file_extension": ".py",
   "mimetype": "text/x-python",
   "name": "python",
   "nbconvert_exporter": "python",
   "pygments_lexer": "ipython3",
   "version": "3.7.3"
  }
 },
 "nbformat": 4,
 "nbformat_minor": 2
}
